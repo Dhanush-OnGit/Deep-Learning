{
 "cells": [
  {
   "cell_type": "code",
   "execution_count": 1,
   "id": "f8abd584-82bc-478a-88f7-727eddceda38",
   "metadata": {},
   "outputs": [],
   "source": [
    "import numpy as np"
   ]
  },
  {
   "cell_type": "code",
   "execution_count": 2,
   "id": "bb31c32d-7a74-4865-96f7-1e817cdf415b",
   "metadata": {},
   "outputs": [],
   "source": [
    "import matplotlib.pyplot as plt"
   ]
  },
  {
   "cell_type": "code",
   "execution_count": 18,
   "id": "bb8b52a0-382f-4184-a2d6-919918e296f0",
   "metadata": {},
   "outputs": [],
   "source": [
    "data = [10,12,20,22,26,15,18,101,100]"
   ]
  },
  {
   "cell_type": "code",
   "execution_count": 19,
   "id": "664112d6-6489-4e9b-9673-8de725a30f88",
   "metadata": {},
   "outputs": [
    {
     "data": {
      "text/plain": [
       "{'whiskers': [<matplotlib.lines.Line2D at 0x7a5dcdcd8670>,\n",
       "  <matplotlib.lines.Line2D at 0x7a5dcdcd8910>],\n",
       " 'caps': [<matplotlib.lines.Line2D at 0x7a5dcdcd8bb0>,\n",
       "  <matplotlib.lines.Line2D at 0x7a5dcdcd8e50>],\n",
       " 'boxes': [<matplotlib.lines.Line2D at 0x7a5dcdcd83d0>],\n",
       " 'medians': [<matplotlib.lines.Line2D at 0x7a5dcdcd90f0>],\n",
       " 'fliers': [<matplotlib.lines.Line2D at 0x7a5dcdcd9390>],\n",
       " 'means': []}"
      ]
     },
     "execution_count": 19,
     "metadata": {},
     "output_type": "execute_result"
    },
    {
     "data": {
      "image/png": "[encoded data removed]",
      "text/plain": [
       "<Figure size 640x480 with 1 Axes>"
      ]
     },
     "metadata": {},
     "output_type": "display_data"
    }
   ],
   "source": [
    "plt.boxplot(data)"
   ]
  },
  {
   "cell_type": "code",
   "execution_count": 13,
   "id": "8a25cd58-b884-46fa-83df-758979596165",
   "metadata": {},
   "outputs": [],
   "source": [
    "n = np.mean(data)"
   ]
  },
  {
   "cell_type": "code",
   "execution_count": 15,
   "id": "269731f1-abe6-4d4e-9c0e-104fcef51ba1",
   "metadata": {},
   "outputs": [],
   "source": [
    "std = np.std(data)"
   ]
  },
  {
   "cell_type": "code",
   "execution_count": 16,
   "id": "2813b946-8516-4080-bc00-382813e892ef",
   "metadata": {},
   "outputs": [],
   "source": [
    "z = (data-n)/std"
   ]
  },
  {
   "cell_type": "code",
   "execution_count": 17,
   "id": "66ead5c4-b225-4396-8395-709ea7dfa081",
   "metadata": {},
   "outputs": [
    {
     "name": "stdout",
     "output_type": "stream",
     "text": [
      "[-0.74744745 -0.68995149 -0.45996766 -0.4024717  -0.28747979 -0.60370755\n",
      " -0.51746362  1.86861862  1.83987064]\n"
     ]
    }
   ],
   "source": [
    "print(z)"
   ]
  },
  {
   "cell_type": "code",
   "execution_count": 20,
   "id": "03ebe276-643e-4332-b7e8-afa7b3d9641b",
   "metadata": {},
   "outputs": [],
   "source": [
    "out =[]"
   ]
  },
  {
   "cell_type": "code",
   "execution_count": 25,
   "id": "95dc9f48-5eb8-4768-8c60-28f2eab4ea47",
   "metadata": {},
   "outputs": [
    {
     "ename": "NameError",
     "evalue": "name 'def_out' is not defined",
     "output_type": "error",
     "traceback": [
      "\u001b[0;31m---------------------------------------------------------------------------\u001b[0m",
      "\u001b[0;31mNameError\u001b[0m                                 Traceback (most recent call last)",
      "Cell \u001b[0;32mIn[25], line 7\u001b[0m\n\u001b[1;32m      5\u001b[0m             out\u001b[38;5;241m.\u001b[39mappend(i)\n\u001b[1;32m      6\u001b[0m         \u001b[38;5;28;01mreturn\u001b[39;00m out\n\u001b[0;32m----> 7\u001b[0m function \u001b[38;5;241m=\u001b[39m \u001b[43mdef_out\u001b[49m(data)\n\u001b[1;32m      8\u001b[0m \u001b[38;5;28mprint\u001b[39m(function)\n",
      "\u001b[0;31mNameError\u001b[0m: name 'def_out' is not defined"
     ]
    }
   ],
   "source": [
    "def det_out(data):\n",
    "    threshold = 3\n",
    "    for i in data:\n",
    "        if np.abs(z) >threshold:\n",
    "            out.append(i)\n",
    "        return out\n",
    "function = def_out(data)\n",
    "print(function)"
   ]
  },
  {
   "cell_type": "code",
   "execution_count": 26,
   "id": "4fe86e96-ddce-4f35-af2e-04ab4da2d7f0",
   "metadata": {
    "editable": true,
    "slideshow": {
     "slide_type": ""
    },
    "tags": []
   },
   "outputs": [
    {
     "data": {
      "image/png": "[encoded data removed]",
      "text/plain": [
       "<Figure size 640x480 with 1 Axes>"
      ]
     },
     "metadata": {},
     "output_type": "display_data"
    },
    {
     "name": "stdout",
     "output_type": "stream",
     "text": [
      "Z-scores: [-0.74744745 -0.68995149 -0.45996766 -0.4024717  -0.28747979 -0.60370755\n",
      " -0.51746362  1.86861862  1.83987064]\n",
      "Outliers: []\n"
     ]
    }
   ],
   "source": [
    "import numpy as np\n",
    "import matplotlib.pyplot as plt\n",
    "\n",
    "data = [10, 12, 20, 22, 26, 15, 18, 101, 100]\n",
    "\n",
    "plt.boxplot(data)\n",
    "plt.title(\"Boxplot of Data\")\n",
    "plt.show()\n",
    "\n",
    "data_np = np.array(data)\n",
    "\n",
    "n = np.mean(data_np)\n",
    "std = np.std(data_np)\n",
    "\n",
    "z = (data_np - n) / std\n",
    "print(\"Z-scores:\", z)\n",
    "\n",
    "def det_out(data, z_scores, threshold=3):\n",
    "    outliers = []\n",
    "    for i, score in enumerate(z_scores):\n",
    "        if np.abs(score) > threshold:\n",
    "            outliers.append(data[i])\n",
    "    return outliers\n",
    "\n",
    "outliers = det_out(data_np, z)\n",
    "print(\"Outliers:\", outliers)\n"
   ]
  },
  {
   "cell_type": "code",
   "execution_count": null,
   "id": "2be67a85-3994-4053-b2fe-2d01f18e2272",
   "metadata": {},
   "outputs": [],
   "source": []
  }
 ],
 "metadata": {
  "kernelspec": {
   "display_name": "Python 3 (ipykernel)",
   "language": "python",
   "name": "python3"
  },
  "language_info": {
   "codemirror_mode": {
    "name": "ipython",
    "version": 3
   },
   "file_extension": ".py",
   "mimetype": "text/x-python",
   "name": "python",
   "nbconvert_exporter": "python",
   "pygments_lexer": "ipython3",
   "version": "3.10.12"
  },
  "toc": {
   "base_numbering": 1
  }
 },
 "nbformat": 4,
 "nbformat_minor": 5
}
